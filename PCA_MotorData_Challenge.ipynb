{
 "cells": [
  {
   "cell_type": "markdown",
   "metadata": {
    "colab_type": "text",
    "id": "view-in-github"
   },
   "source": [
    "<a href=\"https://colab.research.google.com/github/coding-dojo-data-science/week-10-lecture-2-pca/blob/main/11_7_23_PCA_MotorData_Challenge.ipynb\" target=\"_parent\"><img src=\"https://colab.research.google.com/assets/colab-badge.svg\" alt=\"Open In Colab\"/></a>"
   ]
  },
  {
   "cell_type": "markdown",
   "metadata": {
    "id": "X2Ns7BSwdsxq"
   },
   "source": [
    "# Predict Machine Failure\n",
    "\n",
    "The task is to predict the condition of a motor based on the features provided.\n",
    "\n",
    "This is ultimately a supervised learning task, but we will add PCA to our pre-processing step.\n",
    "\n",
    "The goal here is to get the highest overall accuracy."
   ]
  },
  {
   "cell_type": "code",
   "execution_count": 1,
   "metadata": {
    "ExecuteTime": {
     "end_time": "2023-01-25T23:55:56.631911Z",
     "start_time": "2023-01-25T23:55:54.163207Z"
    },
    "id": "c31c29a5"
   },
   "outputs": [],
   "source": [
    "import pandas as pd\n",
    "from seaborn import heatmap\n",
    "from sklearn.decomposition import PCA\n",
    "from sklearn.preprocessing import StandardScaler\n",
    "from sklearn.model_selection import train_test_split, GridSearchCV\n",
    "from sklearn.pipeline import make_pipeline\n",
    "from sklearn.neighbors import KNeighborsClassifier\n",
    "from sklearn.metrics import classification_report\n",
    "import matplotlib.pyplot as plt"
   ]
  },
  {
   "cell_type": "code",
   "execution_count": 2,
   "metadata": {
    "ExecuteTime": {
     "end_time": "2023-01-25T23:55:59.745852Z",
     "start_time": "2023-01-25T23:55:56.633859Z"
    },
    "id": "xfJGnI6dotaV"
   },
   "outputs": [
    {
     "data": {
      "text/html": [
       "<div>\n",
       "<style scoped>\n",
       "    .dataframe tbody tr th:only-of-type {\n",
       "        vertical-align: middle;\n",
       "    }\n",
       "\n",
       "    .dataframe tbody tr th {\n",
       "        vertical-align: top;\n",
       "    }\n",
       "\n",
       "    .dataframe thead th {\n",
       "        text-align: right;\n",
       "    }\n",
       "</style>\n",
       "<table border=\"1\" class=\"dataframe\">\n",
       "  <thead>\n",
       "    <tr style=\"text-align: right;\">\n",
       "      <th></th>\n",
       "      <th>Column1</th>\n",
       "      <th>Column2</th>\n",
       "      <th>Column3</th>\n",
       "      <th>Column4</th>\n",
       "      <th>Column5</th>\n",
       "      <th>Column6</th>\n",
       "      <th>Column7</th>\n",
       "      <th>Column8</th>\n",
       "      <th>Column9</th>\n",
       "      <th>Column10</th>\n",
       "      <th>...</th>\n",
       "      <th>Column40</th>\n",
       "      <th>Column41</th>\n",
       "      <th>Column42</th>\n",
       "      <th>Column43</th>\n",
       "      <th>Column44</th>\n",
       "      <th>Column45</th>\n",
       "      <th>Column46</th>\n",
       "      <th>Column47</th>\n",
       "      <th>Column48</th>\n",
       "      <th>Column49</th>\n",
       "    </tr>\n",
       "  </thead>\n",
       "  <tbody>\n",
       "    <tr>\n",
       "      <th>0</th>\n",
       "      <td>-3.014600e-07</td>\n",
       "      <td>8.260300e-06</td>\n",
       "      <td>-0.000012</td>\n",
       "      <td>-0.000002</td>\n",
       "      <td>-1.438600e-06</td>\n",
       "      <td>-0.000021</td>\n",
       "      <td>0.031718</td>\n",
       "      <td>0.031710</td>\n",
       "      <td>0.031721</td>\n",
       "      <td>-0.032963</td>\n",
       "      <td>...</td>\n",
       "      <td>-0.63308</td>\n",
       "      <td>2.9646</td>\n",
       "      <td>8.1198</td>\n",
       "      <td>-1.4961</td>\n",
       "      <td>-1.4961</td>\n",
       "      <td>-1.4961</td>\n",
       "      <td>-1.4996</td>\n",
       "      <td>-1.4996</td>\n",
       "      <td>-1.4996</td>\n",
       "      <td>1</td>\n",
       "    </tr>\n",
       "    <tr>\n",
       "      <th>1</th>\n",
       "      <td>2.913200e-06</td>\n",
       "      <td>-5.247700e-06</td>\n",
       "      <td>0.000003</td>\n",
       "      <td>-0.000006</td>\n",
       "      <td>2.778900e-06</td>\n",
       "      <td>-0.000004</td>\n",
       "      <td>0.030804</td>\n",
       "      <td>0.030810</td>\n",
       "      <td>0.030806</td>\n",
       "      <td>-0.033520</td>\n",
       "      <td>...</td>\n",
       "      <td>-0.59314</td>\n",
       "      <td>7.6252</td>\n",
       "      <td>6.1690</td>\n",
       "      <td>-1.4967</td>\n",
       "      <td>-1.4967</td>\n",
       "      <td>-1.4967</td>\n",
       "      <td>-1.5005</td>\n",
       "      <td>-1.5005</td>\n",
       "      <td>-1.5005</td>\n",
       "      <td>1</td>\n",
       "    </tr>\n",
       "    <tr>\n",
       "      <th>2</th>\n",
       "      <td>-2.951700e-06</td>\n",
       "      <td>-3.184000e-06</td>\n",
       "      <td>-0.000016</td>\n",
       "      <td>-0.000001</td>\n",
       "      <td>-1.575300e-06</td>\n",
       "      <td>0.000017</td>\n",
       "      <td>0.032877</td>\n",
       "      <td>0.032880</td>\n",
       "      <td>0.032896</td>\n",
       "      <td>-0.029834</td>\n",
       "      <td>...</td>\n",
       "      <td>-0.63252</td>\n",
       "      <td>2.7784</td>\n",
       "      <td>5.3017</td>\n",
       "      <td>-1.4983</td>\n",
       "      <td>-1.4983</td>\n",
       "      <td>-1.4982</td>\n",
       "      <td>-1.4985</td>\n",
       "      <td>-1.4985</td>\n",
       "      <td>-1.4985</td>\n",
       "      <td>1</td>\n",
       "    </tr>\n",
       "    <tr>\n",
       "      <th>3</th>\n",
       "      <td>-1.322600e-06</td>\n",
       "      <td>8.820100e-06</td>\n",
       "      <td>-0.000016</td>\n",
       "      <td>-0.000005</td>\n",
       "      <td>-7.282900e-07</td>\n",
       "      <td>0.000004</td>\n",
       "      <td>0.029410</td>\n",
       "      <td>0.029401</td>\n",
       "      <td>0.029417</td>\n",
       "      <td>-0.030156</td>\n",
       "      <td>...</td>\n",
       "      <td>-0.62289</td>\n",
       "      <td>6.5534</td>\n",
       "      <td>6.2606</td>\n",
       "      <td>-1.4963</td>\n",
       "      <td>-1.4963</td>\n",
       "      <td>-1.4963</td>\n",
       "      <td>-1.4975</td>\n",
       "      <td>-1.4975</td>\n",
       "      <td>-1.4976</td>\n",
       "      <td>1</td>\n",
       "    </tr>\n",
       "    <tr>\n",
       "      <th>4</th>\n",
       "      <td>-6.836600e-08</td>\n",
       "      <td>5.666300e-07</td>\n",
       "      <td>-0.000026</td>\n",
       "      <td>-0.000006</td>\n",
       "      <td>-7.940600e-07</td>\n",
       "      <td>0.000013</td>\n",
       "      <td>0.030119</td>\n",
       "      <td>0.030119</td>\n",
       "      <td>0.030145</td>\n",
       "      <td>-0.031393</td>\n",
       "      <td>...</td>\n",
       "      <td>-0.63010</td>\n",
       "      <td>4.5155</td>\n",
       "      <td>9.5231</td>\n",
       "      <td>-1.4958</td>\n",
       "      <td>-1.4958</td>\n",
       "      <td>-1.4958</td>\n",
       "      <td>-1.4959</td>\n",
       "      <td>-1.4959</td>\n",
       "      <td>-1.4959</td>\n",
       "      <td>1</td>\n",
       "    </tr>\n",
       "  </tbody>\n",
       "</table>\n",
       "<p>5 rows × 49 columns</p>\n",
       "</div>"
      ],
      "text/plain": [
       "        Column1       Column2   Column3   Column4       Column5   Column6  \\\n",
       "0 -3.014600e-07  8.260300e-06 -0.000012 -0.000002 -1.438600e-06 -0.000021   \n",
       "1  2.913200e-06 -5.247700e-06  0.000003 -0.000006  2.778900e-06 -0.000004   \n",
       "2 -2.951700e-06 -3.184000e-06 -0.000016 -0.000001 -1.575300e-06  0.000017   \n",
       "3 -1.322600e-06  8.820100e-06 -0.000016 -0.000005 -7.282900e-07  0.000004   \n",
       "4 -6.836600e-08  5.666300e-07 -0.000026 -0.000006 -7.940600e-07  0.000013   \n",
       "\n",
       "    Column7   Column8   Column9  Column10  ...  Column40  Column41  Column42  \\\n",
       "0  0.031718  0.031710  0.031721 -0.032963  ...  -0.63308    2.9646    8.1198   \n",
       "1  0.030804  0.030810  0.030806 -0.033520  ...  -0.59314    7.6252    6.1690   \n",
       "2  0.032877  0.032880  0.032896 -0.029834  ...  -0.63252    2.7784    5.3017   \n",
       "3  0.029410  0.029401  0.029417 -0.030156  ...  -0.62289    6.5534    6.2606   \n",
       "4  0.030119  0.030119  0.030145 -0.031393  ...  -0.63010    4.5155    9.5231   \n",
       "\n",
       "   Column43  Column44  Column45  Column46  Column47  Column48  Column49  \n",
       "0   -1.4961   -1.4961   -1.4961   -1.4996   -1.4996   -1.4996         1  \n",
       "1   -1.4967   -1.4967   -1.4967   -1.5005   -1.5005   -1.5005         1  \n",
       "2   -1.4983   -1.4983   -1.4982   -1.4985   -1.4985   -1.4985         1  \n",
       "3   -1.4963   -1.4963   -1.4963   -1.4975   -1.4975   -1.4976         1  \n",
       "4   -1.4958   -1.4958   -1.4958   -1.4959   -1.4959   -1.4959         1  \n",
       "\n",
       "[5 rows x 49 columns]"
      ]
     },
     "execution_count": 2,
     "metadata": {},
     "output_type": "execute_result"
    }
   ],
   "source": [
    "# load data\n",
    "df = pd.read_csv('https://github.com/coding-dojo-data-science/week-10-lecture-1-pca/raw/main/Data/Sensorless_RAW%20(1).csv')\n",
    "df.head()"
   ]
  },
  {
   "cell_type": "code",
   "execution_count": 3,
   "metadata": {
    "ExecuteTime": {
     "end_time": "2023-01-25T23:55:59.761810Z",
     "start_time": "2023-01-25T23:55:59.747849Z"
    },
    "id": "W4I-5mCFjd6a"
   },
   "outputs": [
    {
     "data": {
      "text/plain": [
       "array([ 1,  2,  3,  4,  5,  6,  7,  8,  9, 10, 11], dtype=int64)"
      ]
     },
     "execution_count": 3,
     "metadata": {},
     "output_type": "execute_result"
    }
   ],
   "source": [
    "df['Column49'].unique()"
   ]
  },
  {
   "cell_type": "code",
   "execution_count": null,
   "metadata": {
    "id": "_wFR0e3v9iIo"
   },
   "outputs": [],
   "source": [
    "# Check for duplicates\n",
    "df.duplicated().sum()"
   ]
  },
  {
   "cell_type": "code",
   "execution_count": null,
   "metadata": {
    "id": "LU03v_ZmpQEB"
   },
   "outputs": [],
   "source": [
    "# Explore shape and datatypes of the data\n",
    "df.info()\n"
   ]
  },
  {
   "cell_type": "code",
   "execution_count": null,
   "metadata": {
    "id": "2oL-6yL-pSy7"
   },
   "outputs": [],
   "source": [
    "# Check for missing values\n",
    "df.isna().sum()"
   ]
  },
  {
   "cell_type": "code",
   "execution_count": null,
   "metadata": {
    "id": "ner4WW2ua12m"
   },
   "outputs": [],
   "source": [
    "# Explore the class balance in the target column.\n",
    "# The last column (Column 49) is the target and is an integer (This is a classification task)\n",
    "df['Column49'].value_counts()"
   ]
  },
  {
   "cell_type": "code",
   "execution_count": null,
   "metadata": {
    "id": "zwGjBhirqfey"
   },
   "outputs": [],
   "source": [
    "# Separate the target and features.  \n",
    "X = df.drop(columns='Column49')\n",
    "y = df['Column49']\n"
   ]
  },
  {
   "cell_type": "code",
   "execution_count": null,
   "metadata": {
    "id": "m1Ly6WbIqSbg"
   },
   "outputs": [],
   "source": [
    "# Train test split\n",
    "X_train, X_test, y_train, y_test = train_test_split(X, y, random_state=42)"
   ]
  },
  {
   "cell_type": "code",
   "execution_count": null,
   "metadata": {
    "id": "06oRCBsv5SR8"
   },
   "outputs": [],
   "source": [
    "X_train.describe()"
   ]
  },
  {
   "cell_type": "markdown",
   "metadata": {
    "id": "5aq1lyWqA-4o"
   },
   "source": [
    "# 1. Create a processing pipeline\n",
    "\n",
    "Create a pipeline that preprocesses the data and applies PCA.  The resulting principal components should retain 95% of the variance of the original features."
   ]
  },
  {
   "cell_type": "code",
   "execution_count": null,
   "metadata": {
    "id": "80N90m9c3box"
   },
   "outputs": [],
   "source": [
    "# Create a scaler\n",
    "\n",
    "# Create a PCA object that will retain 95% of the variance when transforming\n",
    "\n",
    "# Combine the scaler and the PCA in a pipeline.\n",
    "\n",
    "# Transform the training data and check shape of new features after applying PCA\n"
   ]
  },
  {
   "cell_type": "markdown",
   "metadata": {
    "id": "7A5m_ZBpuMcm"
   },
   "source": [
    "# Create a KNN classification model **WITHOUT** PCA and check the accuracy\n"
   ]
  },
  {
   "cell_type": "code",
   "execution_count": null,
   "metadata": {
    "id": "cG7XTevFA3eV"
   },
   "outputs": [],
   "source": [
    "%%time\n",
    "# Create and fit a KNN model WITHOUT PCA.\n"
   ]
  },
  {
   "cell_type": "code",
   "execution_count": null,
   "metadata": {
    "id": "1JZyvoLp20u0"
   },
   "outputs": [],
   "source": [
    "%%time\n",
    "# Make predictions and evaluate the model using classification_report\n"
   ]
  },
  {
   "cell_type": "markdown",
   "metadata": {
    "id": "h8GXAAvtA1TI"
   },
   "source": [
    "# Create a KNN classification model **WITH** PCA and check the accuracy"
   ]
  },
  {
   "cell_type": "code",
   "execution_count": null,
   "metadata": {
    "id": "Sz0jJy4-2_Kh"
   },
   "outputs": [],
   "source": [
    "%%time\n",
    "# Create and fit a KNN model WITH PCA.\n"
   ]
  },
  {
   "cell_type": "code",
   "execution_count": null,
   "metadata": {
    "id": "5qNozC652_Ki"
   },
   "outputs": [],
   "source": [
    "%%time\n",
    "# Make predictions and evaluate the model using classification_report\n"
   ]
  },
  {
   "cell_type": "markdown",
   "metadata": {
    "id": "n1Qng8s4byll"
   },
   "source": [
    "# Discuss:\n",
    "\n",
    "1. What were the benefits of using PCA for this dataset?\n",
    "\n",
    "2. What were the drawbacks?\n",
    "\n",
    "3. Which model took longer to train?  \n",
    "  \n",
    "  - Which took longer to predict?  \n",
    "  \n",
    "  - Why might this be?  \n",
    "  \n",
    "  - What does this tell you about using PCA in a pipeline?"
   ]
  },
  {
   "cell_type": "markdown",
   "metadata": {
    "id": "zCqP-S5pen_n"
   },
   "source": [
    "## Bonus! \n",
    "\n",
    "This is just a default model, but you could try a gridsearch or other classifier algorithms to reduce overfitting and see if your group can get a better result!\n",
    "\n",
    "#### Hint\n",
    "You can use gridsearch to change the number of componenents that the PCA is keeping, too!  However, remember not to search over too many hyperparameter values or your search will take too long!"
   ]
  },
  {
   "cell_type": "code",
   "execution_count": null,
   "metadata": {
    "id": "U6LJCyhs4Y2R"
   },
   "outputs": [],
   "source": []
  },
  {
   "cell_type": "code",
   "execution_count": null,
   "metadata": {
    "id": "YUJUvhZls6PE"
   },
   "outputs": [],
   "source": []
  }
 ],
 "metadata": {
  "colab": {
   "include_colab_link": true,
   "provenance": []
  },
  "kernelspec": {
   "display_name": "Python 3 (ipykernel)",
   "language": "python",
   "name": "python3"
  },
  "language_info": {
   "codemirror_mode": {
    "name": "ipython",
    "version": 3
   },
   "file_extension": ".py",
   "mimetype": "text/x-python",
   "name": "python",
   "nbconvert_exporter": "python",
   "pygments_lexer": "ipython3",
   "version": "3.9.15"
  },
  "toc": {
   "base_numbering": 1,
   "nav_menu": {},
   "number_sections": true,
   "sideBar": true,
   "skip_h1_title": false,
   "title_cell": "Table of Contents",
   "title_sidebar": "Contents",
   "toc_cell": false,
   "toc_position": {},
   "toc_section_display": true,
   "toc_window_display": false
  }
 },
 "nbformat": 4,
 "nbformat_minor": 1
}
