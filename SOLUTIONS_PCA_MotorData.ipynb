{
  "nbformat": 4,
  "nbformat_minor": 0,
  "metadata": {
    "colab": {
      "provenance": [],
      "include_colab_link": true
    },
    "kernelspec": {
      "name": "python3",
      "display_name": "Python 3"
    },
    "language_info": {
      "name": "python"
    }
  },
  "cells": [
    {
      "cell_type": "markdown",
      "metadata": {
        "id": "view-in-github",
        "colab_type": "text"
      },
      "source": [
        "<a href=\"https://colab.research.google.com/github/coding-dojo-data-science/week-10-lecture-2-pca/blob/main/Copy_of_9_12_22_SOLUTIONS_PCA_MotorData.ipynb\" target=\"_parent\"><img src=\"https://colab.research.google.com/assets/colab-badge.svg\" alt=\"Open In Colab\"/></a>"
      ]
    },
    {
      "cell_type": "markdown",
      "metadata": {
        "id": "X2Ns7BSwdsxq"
      },
      "source": [
        "The task is to predict the condition of a motor based on the features provided.\n",
        "\n",
        "This is ultimately a supervised learning task, but we will add PCA to our pre-processing step.\n",
        "\n",
        "The goal here is to get the highest overall accuracy."
      ]
    },
    {
      "cell_type": "code",
      "metadata": {
        "id": "c31c29a5"
      },
      "source": [
        "import pandas as pd\n",
        "import matplotlib.pyplot as plt\n",
        "from seaborn import heatmap\n",
        "from sklearn.decomposition import PCA\n",
        "from sklearn.preprocessing import StandardScaler\n",
        "from sklearn.model_selection import train_test_split, GridSearchCV\n",
        "from sklearn.pipeline import make_pipeline\n",
        "from sklearn.ensemble import RandomForestClassifier\n",
        "from sklearn.neighbors import KNeighborsClassifier\n",
        "from sklearn.metrics import classification_report, confusion_matrix\n",
        "import matplotlib.pyplot as plt"
      ],
      "execution_count": null,
      "outputs": []
    },
    {
      "cell_type": "code",
      "metadata": {
        "colab": {
          "base_uri": "https://localhost:8080/",
          "height": 386
        },
        "id": "xfJGnI6dotaV",
        "outputId": "77e4d68e-39b8-48e6-cb62-bf437f2cea1d"
      },
      "source": [
        "df = pd.read_csv('https://raw.githubusercontent.com/ninja-josh/image-storage/da58a7aa38dccd3ea96dc2e8eac658d99d928625/Sensorless_RAW%20(1).csv')\n",
        "df.head()"
      ],
      "execution_count": null,
      "outputs": [
        {
          "output_type": "execute_result",
          "data": {
            "text/plain": [
              "        Column1       Column2   Column3   Column4       Column5   Column6  \\\n",
              "0 -3.014600e-07  8.260300e-06 -0.000012 -0.000002 -1.438600e-06 -0.000021   \n",
              "1  2.913200e-06 -5.247700e-06  0.000003 -0.000006  2.778900e-06 -0.000004   \n",
              "2 -2.951700e-06 -3.184000e-06 -0.000016 -0.000001 -1.575300e-06  0.000017   \n",
              "3 -1.322600e-06  8.820100e-06 -0.000016 -0.000005 -7.282900e-07  0.000004   \n",
              "4 -6.836600e-08  5.666300e-07 -0.000026 -0.000006 -7.940600e-07  0.000013   \n",
              "\n",
              "    Column7   Column8   Column9  Column10  ...  Column40  Column41  Column42  \\\n",
              "0  0.031718  0.031710  0.031721 -0.032963  ...  -0.63308    2.9646    8.1198   \n",
              "1  0.030804  0.030810  0.030806 -0.033520  ...  -0.59314    7.6252    6.1690   \n",
              "2  0.032877  0.032880  0.032896 -0.029834  ...  -0.63252    2.7784    5.3017   \n",
              "3  0.029410  0.029401  0.029417 -0.030156  ...  -0.62289    6.5534    6.2606   \n",
              "4  0.030119  0.030119  0.030145 -0.031393  ...  -0.63010    4.5155    9.5231   \n",
              "\n",
              "   Column43  Column44  Column45  Column46  Column47  Column48  Column49  \n",
              "0   -1.4961   -1.4961   -1.4961   -1.4996   -1.4996   -1.4996         1  \n",
              "1   -1.4967   -1.4967   -1.4967   -1.5005   -1.5005   -1.5005         1  \n",
              "2   -1.4983   -1.4983   -1.4982   -1.4985   -1.4985   -1.4985         1  \n",
              "3   -1.4963   -1.4963   -1.4963   -1.4975   -1.4975   -1.4976         1  \n",
              "4   -1.4958   -1.4958   -1.4958   -1.4959   -1.4959   -1.4959         1  \n",
              "\n",
              "[5 rows x 49 columns]"
            ],
            "text/html": [
              "\n",
              "  <div id=\"df-fd13fafe-dac0-48fe-848a-8d2ef7ed7ab5\">\n",
              "    <div class=\"colab-df-container\">\n",
              "      <div>\n",
              "<style scoped>\n",
              "    .dataframe tbody tr th:only-of-type {\n",
              "        vertical-align: middle;\n",
              "    }\n",
              "\n",
              "    .dataframe tbody tr th {\n",
              "        vertical-align: top;\n",
              "    }\n",
              "\n",
              "    .dataframe thead th {\n",
              "        text-align: right;\n",
              "    }\n",
              "</style>\n",
              "<table border=\"1\" class=\"dataframe\">\n",
              "  <thead>\n",
              "    <tr style=\"text-align: right;\">\n",
              "      <th></th>\n",
              "      <th>Column1</th>\n",
              "      <th>Column2</th>\n",
              "      <th>Column3</th>\n",
              "      <th>Column4</th>\n",
              "      <th>Column5</th>\n",
              "      <th>Column6</th>\n",
              "      <th>Column7</th>\n",
              "      <th>Column8</th>\n",
              "      <th>Column9</th>\n",
              "      <th>Column10</th>\n",
              "      <th>...</th>\n",
              "      <th>Column40</th>\n",
              "      <th>Column41</th>\n",
              "      <th>Column42</th>\n",
              "      <th>Column43</th>\n",
              "      <th>Column44</th>\n",
              "      <th>Column45</th>\n",
              "      <th>Column46</th>\n",
              "      <th>Column47</th>\n",
              "      <th>Column48</th>\n",
              "      <th>Column49</th>\n",
              "    </tr>\n",
              "  </thead>\n",
              "  <tbody>\n",
              "    <tr>\n",
              "      <th>0</th>\n",
              "      <td>-3.014600e-07</td>\n",
              "      <td>8.260300e-06</td>\n",
              "      <td>-0.000012</td>\n",
              "      <td>-0.000002</td>\n",
              "      <td>-1.438600e-06</td>\n",
              "      <td>-0.000021</td>\n",
              "      <td>0.031718</td>\n",
              "      <td>0.031710</td>\n",
              "      <td>0.031721</td>\n",
              "      <td>-0.032963</td>\n",
              "      <td>...</td>\n",
              "      <td>-0.63308</td>\n",
              "      <td>2.9646</td>\n",
              "      <td>8.1198</td>\n",
              "      <td>-1.4961</td>\n",
              "      <td>-1.4961</td>\n",
              "      <td>-1.4961</td>\n",
              "      <td>-1.4996</td>\n",
              "      <td>-1.4996</td>\n",
              "      <td>-1.4996</td>\n",
              "      <td>1</td>\n",
              "    </tr>\n",
              "    <tr>\n",
              "      <th>1</th>\n",
              "      <td>2.913200e-06</td>\n",
              "      <td>-5.247700e-06</td>\n",
              "      <td>0.000003</td>\n",
              "      <td>-0.000006</td>\n",
              "      <td>2.778900e-06</td>\n",
              "      <td>-0.000004</td>\n",
              "      <td>0.030804</td>\n",
              "      <td>0.030810</td>\n",
              "      <td>0.030806</td>\n",
              "      <td>-0.033520</td>\n",
              "      <td>...</td>\n",
              "      <td>-0.59314</td>\n",
              "      <td>7.6252</td>\n",
              "      <td>6.1690</td>\n",
              "      <td>-1.4967</td>\n",
              "      <td>-1.4967</td>\n",
              "      <td>-1.4967</td>\n",
              "      <td>-1.5005</td>\n",
              "      <td>-1.5005</td>\n",
              "      <td>-1.5005</td>\n",
              "      <td>1</td>\n",
              "    </tr>\n",
              "    <tr>\n",
              "      <th>2</th>\n",
              "      <td>-2.951700e-06</td>\n",
              "      <td>-3.184000e-06</td>\n",
              "      <td>-0.000016</td>\n",
              "      <td>-0.000001</td>\n",
              "      <td>-1.575300e-06</td>\n",
              "      <td>0.000017</td>\n",
              "      <td>0.032877</td>\n",
              "      <td>0.032880</td>\n",
              "      <td>0.032896</td>\n",
              "      <td>-0.029834</td>\n",
              "      <td>...</td>\n",
              "      <td>-0.63252</td>\n",
              "      <td>2.7784</td>\n",
              "      <td>5.3017</td>\n",
              "      <td>-1.4983</td>\n",
              "      <td>-1.4983</td>\n",
              "      <td>-1.4982</td>\n",
              "      <td>-1.4985</td>\n",
              "      <td>-1.4985</td>\n",
              "      <td>-1.4985</td>\n",
              "      <td>1</td>\n",
              "    </tr>\n",
              "    <tr>\n",
              "      <th>3</th>\n",
              "      <td>-1.322600e-06</td>\n",
              "      <td>8.820100e-06</td>\n",
              "      <td>-0.000016</td>\n",
              "      <td>-0.000005</td>\n",
              "      <td>-7.282900e-07</td>\n",
              "      <td>0.000004</td>\n",
              "      <td>0.029410</td>\n",
              "      <td>0.029401</td>\n",
              "      <td>0.029417</td>\n",
              "      <td>-0.030156</td>\n",
              "      <td>...</td>\n",
              "      <td>-0.62289</td>\n",
              "      <td>6.5534</td>\n",
              "      <td>6.2606</td>\n",
              "      <td>-1.4963</td>\n",
              "      <td>-1.4963</td>\n",
              "      <td>-1.4963</td>\n",
              "      <td>-1.4975</td>\n",
              "      <td>-1.4975</td>\n",
              "      <td>-1.4976</td>\n",
              "      <td>1</td>\n",
              "    </tr>\n",
              "    <tr>\n",
              "      <th>4</th>\n",
              "      <td>-6.836600e-08</td>\n",
              "      <td>5.666300e-07</td>\n",
              "      <td>-0.000026</td>\n",
              "      <td>-0.000006</td>\n",
              "      <td>-7.940600e-07</td>\n",
              "      <td>0.000013</td>\n",
              "      <td>0.030119</td>\n",
              "      <td>0.030119</td>\n",
              "      <td>0.030145</td>\n",
              "      <td>-0.031393</td>\n",
              "      <td>...</td>\n",
              "      <td>-0.63010</td>\n",
              "      <td>4.5155</td>\n",
              "      <td>9.5231</td>\n",
              "      <td>-1.4958</td>\n",
              "      <td>-1.4958</td>\n",
              "      <td>-1.4958</td>\n",
              "      <td>-1.4959</td>\n",
              "      <td>-1.4959</td>\n",
              "      <td>-1.4959</td>\n",
              "      <td>1</td>\n",
              "    </tr>\n",
              "  </tbody>\n",
              "</table>\n",
              "<p>5 rows × 49 columns</p>\n",
              "</div>\n",
              "      <button class=\"colab-df-convert\" onclick=\"convertToInteractive('df-fd13fafe-dac0-48fe-848a-8d2ef7ed7ab5')\"\n",
              "              title=\"Convert this dataframe to an interactive table.\"\n",
              "              style=\"display:none;\">\n",
              "        \n",
              "  <svg xmlns=\"http://www.w3.org/2000/svg\" height=\"24px\"viewBox=\"0 0 24 24\"\n",
              "       width=\"24px\">\n",
              "    <path d=\"M0 0h24v24H0V0z\" fill=\"none\"/>\n",
              "    <path d=\"M18.56 5.44l.94 2.06.94-2.06 2.06-.94-2.06-.94-.94-2.06-.94 2.06-2.06.94zm-11 1L8.5 8.5l.94-2.06 2.06-.94-2.06-.94L8.5 2.5l-.94 2.06-2.06.94zm10 10l.94 2.06.94-2.06 2.06-.94-2.06-.94-.94-2.06-.94 2.06-2.06.94z\"/><path d=\"M17.41 7.96l-1.37-1.37c-.4-.4-.92-.59-1.43-.59-.52 0-1.04.2-1.43.59L10.3 9.45l-7.72 7.72c-.78.78-.78 2.05 0 2.83L4 21.41c.39.39.9.59 1.41.59.51 0 1.02-.2 1.41-.59l7.78-7.78 2.81-2.81c.8-.78.8-2.07 0-2.86zM5.41 20L4 18.59l7.72-7.72 1.47 1.35L5.41 20z\"/>\n",
              "  </svg>\n",
              "      </button>\n",
              "      \n",
              "  <style>\n",
              "    .colab-df-container {\n",
              "      display:flex;\n",
              "      flex-wrap:wrap;\n",
              "      gap: 12px;\n",
              "    }\n",
              "\n",
              "    .colab-df-convert {\n",
              "      background-color: #E8F0FE;\n",
              "      border: none;\n",
              "      border-radius: 50%;\n",
              "      cursor: pointer;\n",
              "      display: none;\n",
              "      fill: #1967D2;\n",
              "      height: 32px;\n",
              "      padding: 0 0 0 0;\n",
              "      width: 32px;\n",
              "    }\n",
              "\n",
              "    .colab-df-convert:hover {\n",
              "      background-color: #E2EBFA;\n",
              "      box-shadow: 0px 1px 2px rgba(60, 64, 67, 0.3), 0px 1px 3px 1px rgba(60, 64, 67, 0.15);\n",
              "      fill: #174EA6;\n",
              "    }\n",
              "\n",
              "    [theme=dark] .colab-df-convert {\n",
              "      background-color: #3B4455;\n",
              "      fill: #D2E3FC;\n",
              "    }\n",
              "\n",
              "    [theme=dark] .colab-df-convert:hover {\n",
              "      background-color: #434B5C;\n",
              "      box-shadow: 0px 1px 3px 1px rgba(0, 0, 0, 0.15);\n",
              "      filter: drop-shadow(0px 1px 2px rgba(0, 0, 0, 0.3));\n",
              "      fill: #FFFFFF;\n",
              "    }\n",
              "  </style>\n",
              "\n",
              "      <script>\n",
              "        const buttonEl =\n",
              "          document.querySelector('#df-fd13fafe-dac0-48fe-848a-8d2ef7ed7ab5 button.colab-df-convert');\n",
              "        buttonEl.style.display =\n",
              "          google.colab.kernel.accessAllowed ? 'block' : 'none';\n",
              "\n",
              "        async function convertToInteractive(key) {\n",
              "          const element = document.querySelector('#df-fd13fafe-dac0-48fe-848a-8d2ef7ed7ab5');\n",
              "          const dataTable =\n",
              "            await google.colab.kernel.invokeFunction('convertToInteractive',\n",
              "                                                     [key], {});\n",
              "          if (!dataTable) return;\n",
              "\n",
              "          const docLinkHtml = 'Like what you see? Visit the ' +\n",
              "            '<a target=\"_blank\" href=https://colab.research.google.com/notebooks/data_table.ipynb>data table notebook</a>'\n",
              "            + ' to learn more about interactive tables.';\n",
              "          element.innerHTML = '';\n",
              "          dataTable['output_type'] = 'display_data';\n",
              "          await google.colab.output.renderOutput(dataTable, element);\n",
              "          const docLink = document.createElement('div');\n",
              "          docLink.innerHTML = docLinkHtml;\n",
              "          element.appendChild(docLink);\n",
              "        }\n",
              "      </script>\n",
              "    </div>\n",
              "  </div>\n",
              "  "
            ]
          },
          "metadata": {},
          "execution_count": 2
        }
      ]
    },
    {
      "cell_type": "code",
      "metadata": {
        "colab": {
          "base_uri": "https://localhost:8080/"
        },
        "id": "LU03v_ZmpQEB",
        "outputId": "f576f89f-6d98-4f19-ca7d-8fafb6baca62"
      },
      "source": [
        "# There are no null values and all of the features are floats. The last column is the target and is an integer (This is a classification task)\n",
        "df.info()"
      ],
      "execution_count": null,
      "outputs": [
        {
          "output_type": "stream",
          "name": "stdout",
          "text": [
            "<class 'pandas.core.frame.DataFrame'>\n",
            "RangeIndex: 58509 entries, 0 to 58508\n",
            "Data columns (total 49 columns):\n",
            " #   Column    Non-Null Count  Dtype  \n",
            "---  ------    --------------  -----  \n",
            " 0   Column1   58509 non-null  float64\n",
            " 1   Column2   58509 non-null  float64\n",
            " 2   Column3   58509 non-null  float64\n",
            " 3   Column4   58509 non-null  float64\n",
            " 4   Column5   58509 non-null  float64\n",
            " 5   Column6   58509 non-null  float64\n",
            " 6   Column7   58509 non-null  float64\n",
            " 7   Column8   58509 non-null  float64\n",
            " 8   Column9   58509 non-null  float64\n",
            " 9   Column10  58509 non-null  float64\n",
            " 10  Column11  58509 non-null  float64\n",
            " 11  Column12  58509 non-null  float64\n",
            " 12  Column13  58509 non-null  float64\n",
            " 13  Column14  58509 non-null  float64\n",
            " 14  Column15  58509 non-null  float64\n",
            " 15  Column16  58509 non-null  float64\n",
            " 16  Column17  58509 non-null  float64\n",
            " 17  Column18  58509 non-null  float64\n",
            " 18  Column19  58509 non-null  float64\n",
            " 19  Column20  58509 non-null  float64\n",
            " 20  Column21  58509 non-null  float64\n",
            " 21  Column22  58509 non-null  float64\n",
            " 22  Column23  58509 non-null  float64\n",
            " 23  Column24  58509 non-null  float64\n",
            " 24  Column25  58509 non-null  float64\n",
            " 25  Column26  58509 non-null  float64\n",
            " 26  Column27  58509 non-null  float64\n",
            " 27  Column28  58509 non-null  float64\n",
            " 28  Column29  58509 non-null  float64\n",
            " 29  Column30  58509 non-null  float64\n",
            " 30  Column31  58509 non-null  float64\n",
            " 31  Column32  58509 non-null  float64\n",
            " 32  Column33  58509 non-null  float64\n",
            " 33  Column34  58509 non-null  float64\n",
            " 34  Column35  58509 non-null  float64\n",
            " 35  Column36  58509 non-null  float64\n",
            " 36  Column37  58509 non-null  float64\n",
            " 37  Column38  58509 non-null  float64\n",
            " 38  Column39  58509 non-null  float64\n",
            " 39  Column40  58509 non-null  float64\n",
            " 40  Column41  58509 non-null  float64\n",
            " 41  Column42  58509 non-null  float64\n",
            " 42  Column43  58509 non-null  float64\n",
            " 43  Column44  58509 non-null  float64\n",
            " 44  Column45  58509 non-null  float64\n",
            " 45  Column46  58509 non-null  float64\n",
            " 46  Column47  58509 non-null  float64\n",
            " 47  Column48  58509 non-null  float64\n",
            " 48  Column49  58509 non-null  int64  \n",
            "dtypes: float64(48), int64(1)\n",
            "memory usage: 21.9 MB\n"
          ]
        }
      ]
    },
    {
      "cell_type": "code",
      "metadata": {
        "colab": {
          "base_uri": "https://localhost:8080/"
        },
        "id": "ner4WW2ua12m",
        "outputId": "09043b57-1532-42da-9747-76c92903e023"
      },
      "source": [
        "# Explore the target column.  We see this is balanced and there are 11 possible classes.  This is a multiclass classification task.\n",
        "df['Column49'].value_counts()"
      ],
      "execution_count": null,
      "outputs": [
        {
          "output_type": "execute_result",
          "data": {
            "text/plain": [
              "1     5319\n",
              "2     5319\n",
              "3     5319\n",
              "4     5319\n",
              "5     5319\n",
              "6     5319\n",
              "7     5319\n",
              "8     5319\n",
              "9     5319\n",
              "10    5319\n",
              "11    5319\n",
              "Name: Column49, dtype: int64"
            ]
          },
          "metadata": {},
          "execution_count": 4
        }
      ]
    },
    {
      "cell_type": "code",
      "metadata": {
        "id": "zwGjBhirqfey"
      },
      "source": [
        "# Identify the target and features\n",
        "y = df['Column49']\n",
        "X = df.drop(columns = 'Column49')"
      ],
      "execution_count": null,
      "outputs": []
    },
    {
      "cell_type": "code",
      "metadata": {
        "id": "m1Ly6WbIqSbg"
      },
      "source": [
        "# Train test split\n",
        "X_train, X_test, y_train, y_test = train_test_split(X, y, random_state = 42, stratify = y)"
      ],
      "execution_count": null,
      "outputs": []
    },
    {
      "cell_type": "code",
      "metadata": {
        "colab": {
          "base_uri": "https://localhost:8080/",
          "height": 428
        },
        "id": "2oL-6yL-pSy7",
        "outputId": "1320a2cc-8f22-4299-8dfc-332e5871d1a6"
      },
      "source": [
        "# Do a quick look at the stats. Keep in mind that outliers may be indicators of defects \n",
        "X_train.describe()"
      ],
      "execution_count": null,
      "outputs": [
        {
          "output_type": "execute_result",
          "data": {
            "text/plain": [
              "            Column1       Column2       Column3       Column4       Column5  \\\n",
              "count  43881.000000  4.388100e+04  4.388100e+04  43881.000000  4.388100e+04   \n",
              "mean      -0.000003  1.584325e-06  1.339556e-06     -0.000001  1.241655e-06   \n",
              "std        0.000083  5.866064e-05  2.385364e-04      0.000072  6.118783e-05   \n",
              "min       -0.013721 -5.414400e-03 -1.358000e-02     -0.012787 -8.355900e-03   \n",
              "25%       -0.000007 -1.432400e-05 -7.226200e-05     -0.000005 -1.477400e-05   \n",
              "50%       -0.000003  9.125000e-07  5.447700e-07     -0.000001  7.315900e-07   \n",
              "75%        0.000002  1.875900e-05  7.494700e-05      0.000004  1.913300e-05   \n",
              "max        0.005784  4.525300e-03  5.237700e-03      0.001453  8.245100e-04   \n",
              "\n",
              "            Column6       Column7       Column8       Column9      Column10  \\\n",
              "count  4.388100e+04  43881.000000  43881.000000  43881.000000  43881.000000   \n",
              "mean   9.622144e-07      0.001933      0.001931      0.001930     -0.011914   \n",
              "std    2.291861e-04      0.036434      0.036431      0.036435      0.066602   \n",
              "min   -9.741300e-03     -0.139890     -0.135940     -0.130860     -0.218640   \n",
              "25%   -7.302800e-05     -0.019937     -0.019954     -0.019921     -0.032067   \n",
              "50%    2.565900e-07      0.013195      0.013203      0.013229     -0.015513   \n",
              "75%    7.266100e-05      0.024776      0.024777      0.024787      0.020614   \n",
              "max    2.753600e-03      0.069125      0.069130      0.069131      0.352580   \n",
              "\n",
              "       ...      Column39      Column40      Column41      Column42  \\\n",
              "count  ...  43881.000000  43881.000000  43881.000000  43881.000000   \n",
              "mean   ...      8.413442     -0.341709      7.331173      8.282580   \n",
              "std    ...      6.932460     28.649588     12.722574      6.602679   \n",
              "min    ...      0.522180     -0.889130     -0.596830      0.513630   \n",
              "25%    ...      4.440000     -0.715340      1.453600      4.432100   \n",
              "50%    ...      6.577000     -0.661320      3.316000      6.470300   \n",
              "75%    ...      9.949700     -0.574050      8.333300      9.874600   \n",
              "max    ...    265.330000   3670.800000    889.930000    153.150000   \n",
              "\n",
              "           Column43      Column44      Column45      Column46     Column47  \\\n",
              "count  43881.000000  43881.000000  43881.000000  43881.000000  43881.00000   \n",
              "mean      -1.500890     -1.500915     -1.500808     -1.497758     -1.49778   \n",
              "std        0.003662      0.003672      0.003636      0.003190      0.00319   \n",
              "min       -1.522400     -1.522500     -1.522400     -1.521400     -1.52320   \n",
              "25%       -1.503300     -1.503400     -1.503200     -1.499600     -1.49960   \n",
              "50%       -1.500300     -1.500300     -1.500300     -1.498100     -1.49810   \n",
              "75%       -1.498200     -1.498200     -1.498200     -1.496200     -1.49620   \n",
              "max       -1.457600     -1.456100     -1.455500     -1.337200     -1.33720   \n",
              "\n",
              "           Column48  \n",
              "count  43881.000000  \n",
              "mean      -1.497673  \n",
              "std        0.003202  \n",
              "min       -1.521300  \n",
              "25%       -1.499500  \n",
              "50%       -1.498000  \n",
              "75%       -1.496100  \n",
              "max       -1.337100  \n",
              "\n",
              "[8 rows x 48 columns]"
            ],
            "text/html": [
              "\n",
              "  <div id=\"df-26dcc320-9b03-47d7-bb5f-323d77f52e6b\">\n",
              "    <div class=\"colab-df-container\">\n",
              "      <div>\n",
              "<style scoped>\n",
              "    .dataframe tbody tr th:only-of-type {\n",
              "        vertical-align: middle;\n",
              "    }\n",
              "\n",
              "    .dataframe tbody tr th {\n",
              "        vertical-align: top;\n",
              "    }\n",
              "\n",
              "    .dataframe thead th {\n",
              "        text-align: right;\n",
              "    }\n",
              "</style>\n",
              "<table border=\"1\" class=\"dataframe\">\n",
              "  <thead>\n",
              "    <tr style=\"text-align: right;\">\n",
              "      <th></th>\n",
              "      <th>Column1</th>\n",
              "      <th>Column2</th>\n",
              "      <th>Column3</th>\n",
              "      <th>Column4</th>\n",
              "      <th>Column5</th>\n",
              "      <th>Column6</th>\n",
              "      <th>Column7</th>\n",
              "      <th>Column8</th>\n",
              "      <th>Column9</th>\n",
              "      <th>Column10</th>\n",
              "      <th>...</th>\n",
              "      <th>Column39</th>\n",
              "      <th>Column40</th>\n",
              "      <th>Column41</th>\n",
              "      <th>Column42</th>\n",
              "      <th>Column43</th>\n",
              "      <th>Column44</th>\n",
              "      <th>Column45</th>\n",
              "      <th>Column46</th>\n",
              "      <th>Column47</th>\n",
              "      <th>Column48</th>\n",
              "    </tr>\n",
              "  </thead>\n",
              "  <tbody>\n",
              "    <tr>\n",
              "      <th>count</th>\n",
              "      <td>43881.000000</td>\n",
              "      <td>4.388100e+04</td>\n",
              "      <td>4.388100e+04</td>\n",
              "      <td>43881.000000</td>\n",
              "      <td>4.388100e+04</td>\n",
              "      <td>4.388100e+04</td>\n",
              "      <td>43881.000000</td>\n",
              "      <td>43881.000000</td>\n",
              "      <td>43881.000000</td>\n",
              "      <td>43881.000000</td>\n",
              "      <td>...</td>\n",
              "      <td>43881.000000</td>\n",
              "      <td>43881.000000</td>\n",
              "      <td>43881.000000</td>\n",
              "      <td>43881.000000</td>\n",
              "      <td>43881.000000</td>\n",
              "      <td>43881.000000</td>\n",
              "      <td>43881.000000</td>\n",
              "      <td>43881.000000</td>\n",
              "      <td>43881.00000</td>\n",
              "      <td>43881.000000</td>\n",
              "    </tr>\n",
              "    <tr>\n",
              "      <th>mean</th>\n",
              "      <td>-0.000003</td>\n",
              "      <td>1.584325e-06</td>\n",
              "      <td>1.339556e-06</td>\n",
              "      <td>-0.000001</td>\n",
              "      <td>1.241655e-06</td>\n",
              "      <td>9.622144e-07</td>\n",
              "      <td>0.001933</td>\n",
              "      <td>0.001931</td>\n",
              "      <td>0.001930</td>\n",
              "      <td>-0.011914</td>\n",
              "      <td>...</td>\n",
              "      <td>8.413442</td>\n",
              "      <td>-0.341709</td>\n",
              "      <td>7.331173</td>\n",
              "      <td>8.282580</td>\n",
              "      <td>-1.500890</td>\n",
              "      <td>-1.500915</td>\n",
              "      <td>-1.500808</td>\n",
              "      <td>-1.497758</td>\n",
              "      <td>-1.49778</td>\n",
              "      <td>-1.497673</td>\n",
              "    </tr>\n",
              "    <tr>\n",
              "      <th>std</th>\n",
              "      <td>0.000083</td>\n",
              "      <td>5.866064e-05</td>\n",
              "      <td>2.385364e-04</td>\n",
              "      <td>0.000072</td>\n",
              "      <td>6.118783e-05</td>\n",
              "      <td>2.291861e-04</td>\n",
              "      <td>0.036434</td>\n",
              "      <td>0.036431</td>\n",
              "      <td>0.036435</td>\n",
              "      <td>0.066602</td>\n",
              "      <td>...</td>\n",
              "      <td>6.932460</td>\n",
              "      <td>28.649588</td>\n",
              "      <td>12.722574</td>\n",
              "      <td>6.602679</td>\n",
              "      <td>0.003662</td>\n",
              "      <td>0.003672</td>\n",
              "      <td>0.003636</td>\n",
              "      <td>0.003190</td>\n",
              "      <td>0.00319</td>\n",
              "      <td>0.003202</td>\n",
              "    </tr>\n",
              "    <tr>\n",
              "      <th>min</th>\n",
              "      <td>-0.013721</td>\n",
              "      <td>-5.414400e-03</td>\n",
              "      <td>-1.358000e-02</td>\n",
              "      <td>-0.012787</td>\n",
              "      <td>-8.355900e-03</td>\n",
              "      <td>-9.741300e-03</td>\n",
              "      <td>-0.139890</td>\n",
              "      <td>-0.135940</td>\n",
              "      <td>-0.130860</td>\n",
              "      <td>-0.218640</td>\n",
              "      <td>...</td>\n",
              "      <td>0.522180</td>\n",
              "      <td>-0.889130</td>\n",
              "      <td>-0.596830</td>\n",
              "      <td>0.513630</td>\n",
              "      <td>-1.522400</td>\n",
              "      <td>-1.522500</td>\n",
              "      <td>-1.522400</td>\n",
              "      <td>-1.521400</td>\n",
              "      <td>-1.52320</td>\n",
              "      <td>-1.521300</td>\n",
              "    </tr>\n",
              "    <tr>\n",
              "      <th>25%</th>\n",
              "      <td>-0.000007</td>\n",
              "      <td>-1.432400e-05</td>\n",
              "      <td>-7.226200e-05</td>\n",
              "      <td>-0.000005</td>\n",
              "      <td>-1.477400e-05</td>\n",
              "      <td>-7.302800e-05</td>\n",
              "      <td>-0.019937</td>\n",
              "      <td>-0.019954</td>\n",
              "      <td>-0.019921</td>\n",
              "      <td>-0.032067</td>\n",
              "      <td>...</td>\n",
              "      <td>4.440000</td>\n",
              "      <td>-0.715340</td>\n",
              "      <td>1.453600</td>\n",
              "      <td>4.432100</td>\n",
              "      <td>-1.503300</td>\n",
              "      <td>-1.503400</td>\n",
              "      <td>-1.503200</td>\n",
              "      <td>-1.499600</td>\n",
              "      <td>-1.49960</td>\n",
              "      <td>-1.499500</td>\n",
              "    </tr>\n",
              "    <tr>\n",
              "      <th>50%</th>\n",
              "      <td>-0.000003</td>\n",
              "      <td>9.125000e-07</td>\n",
              "      <td>5.447700e-07</td>\n",
              "      <td>-0.000001</td>\n",
              "      <td>7.315900e-07</td>\n",
              "      <td>2.565900e-07</td>\n",
              "      <td>0.013195</td>\n",
              "      <td>0.013203</td>\n",
              "      <td>0.013229</td>\n",
              "      <td>-0.015513</td>\n",
              "      <td>...</td>\n",
              "      <td>6.577000</td>\n",
              "      <td>-0.661320</td>\n",
              "      <td>3.316000</td>\n",
              "      <td>6.470300</td>\n",
              "      <td>-1.500300</td>\n",
              "      <td>-1.500300</td>\n",
              "      <td>-1.500300</td>\n",
              "      <td>-1.498100</td>\n",
              "      <td>-1.49810</td>\n",
              "      <td>-1.498000</td>\n",
              "    </tr>\n",
              "    <tr>\n",
              "      <th>75%</th>\n",
              "      <td>0.000002</td>\n",
              "      <td>1.875900e-05</td>\n",
              "      <td>7.494700e-05</td>\n",
              "      <td>0.000004</td>\n",
              "      <td>1.913300e-05</td>\n",
              "      <td>7.266100e-05</td>\n",
              "      <td>0.024776</td>\n",
              "      <td>0.024777</td>\n",
              "      <td>0.024787</td>\n",
              "      <td>0.020614</td>\n",
              "      <td>...</td>\n",
              "      <td>9.949700</td>\n",
              "      <td>-0.574050</td>\n",
              "      <td>8.333300</td>\n",
              "      <td>9.874600</td>\n",
              "      <td>-1.498200</td>\n",
              "      <td>-1.498200</td>\n",
              "      <td>-1.498200</td>\n",
              "      <td>-1.496200</td>\n",
              "      <td>-1.49620</td>\n",
              "      <td>-1.496100</td>\n",
              "    </tr>\n",
              "    <tr>\n",
              "      <th>max</th>\n",
              "      <td>0.005784</td>\n",
              "      <td>4.525300e-03</td>\n",
              "      <td>5.237700e-03</td>\n",
              "      <td>0.001453</td>\n",
              "      <td>8.245100e-04</td>\n",
              "      <td>2.753600e-03</td>\n",
              "      <td>0.069125</td>\n",
              "      <td>0.069130</td>\n",
              "      <td>0.069131</td>\n",
              "      <td>0.352580</td>\n",
              "      <td>...</td>\n",
              "      <td>265.330000</td>\n",
              "      <td>3670.800000</td>\n",
              "      <td>889.930000</td>\n",
              "      <td>153.150000</td>\n",
              "      <td>-1.457600</td>\n",
              "      <td>-1.456100</td>\n",
              "      <td>-1.455500</td>\n",
              "      <td>-1.337200</td>\n",
              "      <td>-1.33720</td>\n",
              "      <td>-1.337100</td>\n",
              "    </tr>\n",
              "  </tbody>\n",
              "</table>\n",
              "<p>8 rows × 48 columns</p>\n",
              "</div>\n",
              "      <button class=\"colab-df-convert\" onclick=\"convertToInteractive('df-26dcc320-9b03-47d7-bb5f-323d77f52e6b')\"\n",
              "              title=\"Convert this dataframe to an interactive table.\"\n",
              "              style=\"display:none;\">\n",
              "        \n",
              "  <svg xmlns=\"http://www.w3.org/2000/svg\" height=\"24px\"viewBox=\"0 0 24 24\"\n",
              "       width=\"24px\">\n",
              "    <path d=\"M0 0h24v24H0V0z\" fill=\"none\"/>\n",
              "    <path d=\"M18.56 5.44l.94 2.06.94-2.06 2.06-.94-2.06-.94-.94-2.06-.94 2.06-2.06.94zm-11 1L8.5 8.5l.94-2.06 2.06-.94-2.06-.94L8.5 2.5l-.94 2.06-2.06.94zm10 10l.94 2.06.94-2.06 2.06-.94-2.06-.94-.94-2.06-.94 2.06-2.06.94z\"/><path d=\"M17.41 7.96l-1.37-1.37c-.4-.4-.92-.59-1.43-.59-.52 0-1.04.2-1.43.59L10.3 9.45l-7.72 7.72c-.78.78-.78 2.05 0 2.83L4 21.41c.39.39.9.59 1.41.59.51 0 1.02-.2 1.41-.59l7.78-7.78 2.81-2.81c.8-.78.8-2.07 0-2.86zM5.41 20L4 18.59l7.72-7.72 1.47 1.35L5.41 20z\"/>\n",
              "  </svg>\n",
              "      </button>\n",
              "      \n",
              "  <style>\n",
              "    .colab-df-container {\n",
              "      display:flex;\n",
              "      flex-wrap:wrap;\n",
              "      gap: 12px;\n",
              "    }\n",
              "\n",
              "    .colab-df-convert {\n",
              "      background-color: #E8F0FE;\n",
              "      border: none;\n",
              "      border-radius: 50%;\n",
              "      cursor: pointer;\n",
              "      display: none;\n",
              "      fill: #1967D2;\n",
              "      height: 32px;\n",
              "      padding: 0 0 0 0;\n",
              "      width: 32px;\n",
              "    }\n",
              "\n",
              "    .colab-df-convert:hover {\n",
              "      background-color: #E2EBFA;\n",
              "      box-shadow: 0px 1px 2px rgba(60, 64, 67, 0.3), 0px 1px 3px 1px rgba(60, 64, 67, 0.15);\n",
              "      fill: #174EA6;\n",
              "    }\n",
              "\n",
              "    [theme=dark] .colab-df-convert {\n",
              "      background-color: #3B4455;\n",
              "      fill: #D2E3FC;\n",
              "    }\n",
              "\n",
              "    [theme=dark] .colab-df-convert:hover {\n",
              "      background-color: #434B5C;\n",
              "      box-shadow: 0px 1px 3px 1px rgba(0, 0, 0, 0.15);\n",
              "      filter: drop-shadow(0px 1px 2px rgba(0, 0, 0, 0.3));\n",
              "      fill: #FFFFFF;\n",
              "    }\n",
              "  </style>\n",
              "\n",
              "      <script>\n",
              "        const buttonEl =\n",
              "          document.querySelector('#df-26dcc320-9b03-47d7-bb5f-323d77f52e6b button.colab-df-convert');\n",
              "        buttonEl.style.display =\n",
              "          google.colab.kernel.accessAllowed ? 'block' : 'none';\n",
              "\n",
              "        async function convertToInteractive(key) {\n",
              "          const element = document.querySelector('#df-26dcc320-9b03-47d7-bb5f-323d77f52e6b');\n",
              "          const dataTable =\n",
              "            await google.colab.kernel.invokeFunction('convertToInteractive',\n",
              "                                                     [key], {});\n",
              "          if (!dataTable) return;\n",
              "\n",
              "          const docLinkHtml = 'Like what you see? Visit the ' +\n",
              "            '<a target=\"_blank\" href=https://colab.research.google.com/notebooks/data_table.ipynb>data table notebook</a>'\n",
              "            + ' to learn more about interactive tables.';\n",
              "          element.innerHTML = '';\n",
              "          dataTable['output_type'] = 'display_data';\n",
              "          await google.colab.output.renderOutput(dataTable, element);\n",
              "          const docLink = document.createElement('div');\n",
              "          docLink.innerHTML = docLinkHtml;\n",
              "          element.appendChild(docLink);\n",
              "        }\n",
              "      </script>\n",
              "    </div>\n",
              "  </div>\n",
              "  "
            ]
          },
          "metadata": {},
          "execution_count": 7
        }
      ]
    },
    {
      "cell_type": "code",
      "metadata": {
        "id": "v1jeDDh5qLYK",
        "colab": {
          "base_uri": "https://localhost:8080/"
        },
        "outputId": "3125ff0f-33da-4830-d845-6c120ba718e2"
      },
      "source": [
        "# We must scale the data for use in PCA\n",
        "scaler = StandardScaler()\n",
        "\n",
        "# We are asking for the number of Principal Components that will retain 95% of the variance in the original features\n",
        "pca = PCA(n_components = .95)\n",
        "\n",
        "# Preprocessing Pipeline, so we can reuse it for other model types:\n",
        "# We have only numeric data, so there is no need for a column transformer.  \n",
        "# We can perform the same processing steps on all columns.\n",
        "pca_processing = make_pipeline(scaler, pca)\n",
        "\n",
        "print('Shape before PCA:', X_train.shape)\n",
        "print('Shape after PCA:', pca_processing.fit_transform(X_train).shape)\n",
        "print('Column count reduced by: ', X_train.shape[1] - pca_processing.fit_transform(X_train).shape[1])"
      ],
      "execution_count": null,
      "outputs": [
        {
          "output_type": "stream",
          "name": "stdout",
          "text": [
            "Shape before PCA: (43881, 48)\n",
            "Shape after PCA: (43881, 20)\n",
            "Column count reduced by:  28\n"
          ]
        }
      ]
    },
    {
      "cell_type": "markdown",
      "source": [
        "We were able to reduce 48 columns to only 16 while retaining 90% of the information (variance) of the original features."
      ],
      "metadata": {
        "id": "q3Bi0iqR3uEP"
      }
    },
    {
      "cell_type": "code",
      "source": [
        "def eval_classification(model, X_train, X_test, y_train, y_test):\n",
        "  print('Train Report:', classification_report(y_train, model.predict(X_train)))\n",
        "  print('Test Report:', classification_report(y_test, model.predict(X_test)))\n",
        "\n",
        "  cm = confusion_matrix(y_test, model.predict(X_test))\n",
        "\n",
        "  plt.figure(figsize=(15, 15))\n",
        "  heatmap(cm, annot=True)\n",
        "  plt.xlabel('Predicted', fontsize=40)\n",
        "  plt.ylabel('True', fontsize=40)\n",
        "  plt.show()"
      ],
      "metadata": {
        "id": "2eXgInKp91Zf"
      },
      "execution_count": null,
      "outputs": []
    },
    {
      "cell_type": "markdown",
      "source": [
        "# Without PCA"
      ],
      "metadata": {
        "id": "jcTEYz_g9RT_"
      }
    },
    {
      "cell_type": "code",
      "source": [
        "%%time\n",
        "# Without PCA\n",
        "knn = KNeighborsClassifier()\n",
        "\n",
        "# Now we will build the pipeline\n",
        "knn_pipe = make_pipeline(scaler, knn)\n",
        "knn_pipe.fit(X_train, y_train)\n"
      ],
      "metadata": {
        "id": "Ld7zuOHHQSpZ",
        "colab": {
          "base_uri": "https://localhost:8080/"
        },
        "outputId": "0dfdb2cc-3943-401c-d01a-ee253a3d0047"
      },
      "execution_count": null,
      "outputs": [
        {
          "output_type": "stream",
          "name": "stdout",
          "text": [
            "CPU times: user 32.7 ms, sys: 14 ms, total: 46.7 ms\n",
            "Wall time: 51.6 ms\n"
          ]
        },
        {
          "output_type": "execute_result",
          "data": {
            "text/plain": [
              "Pipeline(steps=[('standardscaler', StandardScaler()),\n",
              "                ('kneighborsclassifier', KNeighborsClassifier())])"
            ]
          },
          "metadata": {},
          "execution_count": 10
        }
      ]
    },
    {
      "cell_type": "markdown",
      "source": [
        "One interesting thing about KNN is how quikcly it fits and how slowly it predicts.  All the work is done at predict time, which makes it different than many other models."
      ],
      "metadata": {
        "id": "MXfI_3ydQUWs"
      }
    },
    {
      "cell_type": "code",
      "source": [
        "%%time\n",
        "# evaluate the pipeline\n",
        "eval_classification(knn_pipe, X_train, X_test, y_train, y_test)"
      ],
      "metadata": {
        "colab": {
          "base_uri": "https://localhost:8080/",
          "height": 1000
        },
        "id": "KexRkQJ565-o",
        "outputId": "9cf3346a-afe1-46a9-fb3a-0ed171e15288"
      },
      "execution_count": null,
      "outputs": [
        {
          "output_type": "stream",
          "name": "stdout",
          "text": [
            "Train Report:               precision    recall  f1-score   support\n",
            "\n",
            "           1       0.84      0.89      0.86      3990\n",
            "           2       0.86      0.89      0.88      3989\n",
            "           3       0.89      0.94      0.91      3989\n",
            "           4       0.90      0.94      0.92      3989\n",
            "           5       0.84      0.83      0.83      3989\n",
            "           6       0.82      0.83      0.82      3990\n",
            "           7       1.00      0.99      1.00      3989\n",
            "           8       0.92      0.84      0.88      3989\n",
            "           9       0.94      0.88      0.91      3989\n",
            "          10       0.90      0.86      0.88      3989\n",
            "          11       1.00      1.00      1.00      3989\n",
            "\n",
            "    accuracy                           0.90     43881\n",
            "   macro avg       0.90      0.90      0.90     43881\n",
            "weighted avg       0.90      0.90      0.90     43881\n",
            "\n",
            "Test Report:               precision    recall  f1-score   support\n",
            "\n",
            "           1       0.73      0.80      0.76      1329\n",
            "           2       0.78      0.79      0.79      1330\n",
            "           3       0.82      0.88      0.85      1330\n",
            "           4       0.83      0.87      0.85      1330\n",
            "           5       0.71      0.72      0.72      1330\n",
            "           6       0.69      0.73      0.71      1329\n",
            "           7       1.00      0.99      0.99      1330\n",
            "           8       0.85      0.71      0.78      1330\n",
            "           9       0.90      0.81      0.85      1330\n",
            "          10       0.81      0.78      0.80      1330\n",
            "          11       1.00      1.00      1.00      1330\n",
            "\n",
            "    accuracy                           0.83     14628\n",
            "   macro avg       0.83      0.83      0.83     14628\n",
            "weighted avg       0.83      0.83      0.83     14628\n",
            "\n"
          ]
        },
        {
          "output_type": "display_data",
          "data": {
            "text/plain": [
              "<Figure size 1080x1080 with 2 Axes>"
            ],
            "image/png": "[encoded data removed]"
          },
          "metadata": {
            "needs_background": "light"
          }
        },
        {
          "output_type": "stream",
          "name": "stdout",
          "text": [
            "CPU times: user 1min 5s, sys: 3.54 s, total: 1min 8s\n",
            "Wall time: 1min 2s\n"
          ]
        }
      ]
    },
    {
      "cell_type": "markdown",
      "source": [
        "# With PCA"
      ],
      "metadata": {
        "id": "x7MvaIQI9VTu"
      }
    },
    {
      "cell_type": "code",
      "source": [
        "%%time\n",
        "# Now we will build the pipeline\n",
        "knn_pca_pipe = make_pipeline(scaler, pca, knn)\n",
        "\n",
        "# fit the pipeline\n",
        "knn_pca_pipe.fit(X_train, y_train)"
      ],
      "metadata": {
        "colab": {
          "base_uri": "https://localhost:8080/"
        },
        "id": "UqUieIGfBkCc",
        "outputId": "4ab9ae18-3306-439d-88e5-45dbf84ba15a"
      },
      "execution_count": null,
      "outputs": [
        {
          "output_type": "stream",
          "name": "stdout",
          "text": [
            "CPU times: user 137 ms, sys: 17 ms, total: 154 ms\n",
            "Wall time: 96.7 ms\n"
          ]
        },
        {
          "output_type": "execute_result",
          "data": {
            "text/plain": [
              "Pipeline(steps=[('standardscaler', StandardScaler()),\n",
              "                ('pca', PCA(n_components=0.95)),\n",
              "                ('kneighborsclassifier', KNeighborsClassifier())])"
            ]
          },
          "metadata": {},
          "execution_count": 12
        }
      ]
    },
    {
      "cell_type": "code",
      "metadata": {
        "colab": {
          "base_uri": "https://localhost:8080/",
          "height": 1000
        },
        "id": "7A5m_ZBpuMcm",
        "outputId": "559e230e-0231-421c-e74f-75b6607d67ad"
      },
      "source": [
        "%%time\n",
        "# evaluate the pipeline\n",
        "\n",
        "eval_classification(knn_pca_pipe, X_train, X_test, y_train, y_test)"
      ],
      "execution_count": null,
      "outputs": [
        {
          "output_type": "stream",
          "name": "stdout",
          "text": [
            "Train Report:               precision    recall  f1-score   support\n",
            "\n",
            "           1       0.85      0.89      0.87      3990\n",
            "           2       0.87      0.90      0.88      3989\n",
            "           3       0.90      0.94      0.92      3989\n",
            "           4       0.91      0.94      0.92      3989\n",
            "           5       0.85      0.84      0.84      3989\n",
            "           6       0.82      0.85      0.83      3990\n",
            "           7       1.00      0.99      1.00      3989\n",
            "           8       0.93      0.85      0.89      3989\n",
            "           9       0.94      0.88      0.91      3989\n",
            "          10       0.91      0.87      0.89      3989\n",
            "          11       1.00      1.00      1.00      3989\n",
            "\n",
            "    accuracy                           0.91     43881\n",
            "   macro avg       0.91      0.91      0.91     43881\n",
            "weighted avg       0.91      0.91      0.91     43881\n",
            "\n",
            "Test Report:               precision    recall  f1-score   support\n",
            "\n",
            "           1       0.74      0.80      0.77      1329\n",
            "           2       0.78      0.80      0.79      1330\n",
            "           3       0.84      0.89      0.86      1330\n",
            "           4       0.85      0.89      0.87      1330\n",
            "           5       0.73      0.74      0.74      1330\n",
            "           6       0.70      0.75      0.72      1329\n",
            "           7       1.00      0.98      0.99      1330\n",
            "           8       0.86      0.73      0.79      1330\n",
            "           9       0.90      0.82      0.86      1330\n",
            "          10       0.82      0.79      0.80      1330\n",
            "          11       1.00      1.00      1.00      1330\n",
            "\n",
            "    accuracy                           0.84     14628\n",
            "   macro avg       0.84      0.84      0.84     14628\n",
            "weighted avg       0.84      0.84      0.84     14628\n",
            "\n"
          ]
        },
        {
          "output_type": "display_data",
          "data": {
            "text/plain": [
              "<Figure size 1080x1080 with 2 Axes>"
            ],
            "image/png": "[encoded data removed]"
          },
          "metadata": {
            "needs_background": "light"
          }
        },
        {
          "output_type": "stream",
          "name": "stdout",
          "text": [
            "CPU times: user 58 s, sys: 2.75 s, total: 1min\n",
            "Wall time: 54.6 s\n"
          ]
        }
      ]
    },
    {
      "cell_type": "markdown",
      "source": [
        "# This is just a default model, but we could try a gridsearch or other classifier algorithms to reduce overfitting and see if we could get a better result!"
      ],
      "metadata": {
        "id": "zCqP-S5pen_n"
      }
    },
    {
      "cell_type": "code",
      "source": [
        "knn = KNeighborsClassifier()\n",
        "\n",
        "knn_pca_pipe = make_pipeline(StandardScaler(), PCA(), knn)\n",
        "knn_pca_pipe.get_params()"
      ],
      "metadata": {
        "colab": {
          "base_uri": "https://localhost:8080/"
        },
        "id": "SRu4emG3MrSD",
        "outputId": "0c142eea-6885-4d75-e750-ddf28989a82d"
      },
      "execution_count": null,
      "outputs": [
        {
          "output_type": "execute_result",
          "data": {
            "text/plain": [
              "{'memory': None,\n",
              " 'steps': [('standardscaler', StandardScaler()),\n",
              "  ('pca', PCA()),\n",
              "  ('kneighborsclassifier', KNeighborsClassifier())],\n",
              " 'verbose': False,\n",
              " 'standardscaler': StandardScaler(),\n",
              " 'pca': PCA(),\n",
              " 'kneighborsclassifier': KNeighborsClassifier(),\n",
              " 'standardscaler__copy': True,\n",
              " 'standardscaler__with_mean': True,\n",
              " 'standardscaler__with_std': True,\n",
              " 'pca__copy': True,\n",
              " 'pca__iterated_power': 'auto',\n",
              " 'pca__n_components': None,\n",
              " 'pca__random_state': None,\n",
              " 'pca__svd_solver': 'auto',\n",
              " 'pca__tol': 0.0,\n",
              " 'pca__whiten': False,\n",
              " 'kneighborsclassifier__algorithm': 'auto',\n",
              " 'kneighborsclassifier__leaf_size': 30,\n",
              " 'kneighborsclassifier__metric': 'minkowski',\n",
              " 'kneighborsclassifier__metric_params': None,\n",
              " 'kneighborsclassifier__n_jobs': None,\n",
              " 'kneighborsclassifier__n_neighbors': 5,\n",
              " 'kneighborsclassifier__p': 2,\n",
              " 'kneighborsclassifier__weights': 'uniform'}"
            ]
          },
          "metadata": {},
          "execution_count": 14
        }
      ]
    },
    {
      "cell_type": "code",
      "source": [
        "knn_grid = {'pca__n_components':[.5, .7, .9, None],\n",
        "            'kneighborsclassifier__n_neighbors':[1, 5, 10, 20]}\n",
        "\n",
        "knn_grid = GridSearchCV(knn_pca_pipe, param_grid=knn_grid, cv=3)"
      ],
      "metadata": {
        "id": "Wg3nHJccNeBj"
      },
      "execution_count": null,
      "outputs": []
    },
    {
      "cell_type": "code",
      "source": [
        "%%time\n",
        "knn_grid.fit(X_train, y_train)\n",
        "\n",
        "eval_classification(knn_grid, X_train, X_test, y_train, y_test)"
      ],
      "metadata": {
        "colab": {
          "base_uri": "https://localhost:8080/",
          "height": 1000
        },
        "id": "4SP4fboRLZ03",
        "outputId": "23c6bff1-993d-4be8-82b1-6c31dc3d119c"
      },
      "execution_count": null,
      "outputs": [
        {
          "output_type": "stream",
          "name": "stdout",
          "text": [
            "Train Report:               precision    recall  f1-score   support\n",
            "\n",
            "           1       0.80      0.86      0.83      3990\n",
            "           2       0.91      0.93      0.92      3989\n",
            "           3       0.91      0.90      0.90      3989\n",
            "           4       0.85      0.88      0.86      3989\n",
            "           5       0.87      0.87      0.87      3989\n",
            "           6       0.88      0.86      0.87      3990\n",
            "           7       1.00      1.00      1.00      3989\n",
            "           8       0.90      0.85      0.87      3989\n",
            "           9       0.93      0.94      0.94      3989\n",
            "          10       0.94      0.89      0.91      3989\n",
            "          11       1.00      1.00      1.00      3989\n",
            "\n",
            "    accuracy                           0.91     43881\n",
            "   macro avg       0.91      0.91      0.91     43881\n",
            "weighted avg       0.91      0.91      0.91     43881\n",
            "\n",
            "Test Report:               precision    recall  f1-score   support\n",
            "\n",
            "           1       0.71      0.76      0.73      1329\n",
            "           2       0.87      0.90      0.89      1330\n",
            "           3       0.88      0.85      0.86      1330\n",
            "           4       0.77      0.80      0.79      1330\n",
            "           5       0.79      0.79      0.79      1330\n",
            "           6       0.82      0.81      0.82      1329\n",
            "           7       1.00      1.00      1.00      1330\n",
            "           8       0.84      0.79      0.82      1330\n",
            "           9       0.92      0.90      0.91      1330\n",
            "          10       0.91      0.87      0.89      1330\n",
            "          11       1.00      1.00      1.00      1330\n",
            "\n",
            "    accuracy                           0.86     14628\n",
            "   macro avg       0.86      0.86      0.86     14628\n",
            "weighted avg       0.86      0.86      0.86     14628\n",
            "\n"
          ]
        },
        {
          "output_type": "display_data",
          "data": {
            "text/plain": [
              "<Figure size 1080x1080 with 2 Axes>"
            ],
            "image/png": "[encoded data removed]"
          },
          "metadata": {
            "needs_background": "light"
          }
        },
        {
          "output_type": "stream",
          "name": "stdout",
          "text": [
            "CPU times: user 3min 51s, sys: 15.5 s, total: 4min 7s\n",
            "Wall time: 3min 30s\n"
          ]
        }
      ]
    },
    {
      "cell_type": "markdown",
      "source": [
        "We can see that PCA, speeds up the computation little bit"
      ],
      "metadata": {
        "id": "aksKVTAzFOU4"
      }
    },
    {
      "cell_type": "code",
      "source": [],
      "metadata": {
        "id": "D6Yoq9A_ECig"
      },
      "execution_count": null,
      "outputs": []
    }
  ]
}
